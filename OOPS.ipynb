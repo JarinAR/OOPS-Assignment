{
  "nbformat": 4,
  "nbformat_minor": 0,
  "metadata": {
    "colab": {
      "provenance": []
    },
    "kernelspec": {
      "name": "python3",
      "display_name": "Python 3"
    },
    "language_info": {
      "name": "python"
    }
  },
  "cells": [
    {
      "cell_type": "markdown",
      "source": [
        "**OOPS Assignment Questions**"
      ],
      "metadata": {
        "id": "W2wxov9oYztw"
      }
    },
    {
      "cell_type": "markdown",
      "source": [
        "**Q1.What is Object-Oriented Programming (OOP)?**"
      ],
      "metadata": {
        "id": "fJSe9ILzY526"
      }
    },
    {
      "cell_type": "markdown",
      "source": [
        "Ans:Object-Oriented Programming (OOP) is a programming paradigm that organizes software design around objects, which are instances of classes. It focuses on using objects to model real-world entities and their interactions. Key principles of OOP include:\n",
        "\n",
        "1. **Encapsulation**: Hiding the internal state of objects and exposing only necessary operations.\n",
        "2. **Abstraction**: Simplifying complex systems by exposing only essential features.\n",
        "3. **Inheritance**: Allowing new classes to inherit properties and behaviors from existing ones.\n",
        "4. **Polymorphism**: Enabling objects to be treated as instances of their parent class, allowing different behaviors in different contexts.\n",
        "\n",
        "OOP helps in creating modular, reusable, and maintainable code."
      ],
      "metadata": {
        "id": "k_INd1KsZGzY"
      }
    },
    {
      "cell_type": "markdown",
      "source": [
        "**Q2.What is a class in OOP?**"
      ],
      "metadata": {
        "id": "JiyjRUYwZYeW"
      }
    },
    {
      "cell_type": "markdown",
      "source": [
        "Ans: In Object-Oriented Programming (OOP), a **class** is a blueprint or template for creating objects. It defines a set of properties (attributes) and behaviors (methods) that the objects created from the class will have. A class specifies what data the objects will hold and what operations can be performed on that data.\n",
        "\n",
        "For example, a class called `Car` might define attributes like `color` and `model`, and methods like `drive()` and `stop()`. Objects created from the `Car` class will have these attributes and behaviors."
      ],
      "metadata": {
        "id": "R4cSBM3OZibt"
      }
    },
    {
      "cell_type": "markdown",
      "source": [
        "**Q3.What is an object in OOP?**"
      ],
      "metadata": {
        "id": "qOsPZUrbZrhg"
      }
    },
    {
      "cell_type": "markdown",
      "source": [
        "Ans: In Object-Oriented Programming (OOP), a **class** is a blueprint or template for creating objects. It defines a set of properties (attributes) and behaviors (methods) that the objects created from the class will have. A class specifies what data the objects will hold and what operations can be performed on that data.\n",
        "\n",
        "For example, a class called `Car` might define attributes like `color` and `model`, and methods like `drive()` and `stop()`. Objects created from the `Car` class will have these attributes and behaviors."
      ],
      "metadata": {
        "id": "sBRsYvIdZwrh"
      }
    },
    {
      "cell_type": "markdown",
      "source": [
        "**Q4.What is the difference between abstraction and encapsulation?**"
      ],
      "metadata": {
        "id": "vxsu3QyMZ2pZ"
      }
    },
    {
      "cell_type": "markdown",
      "source": [
        "Ans: Abstraction is the concept of hiding the complex details and showing only the essential features of an object, simplifying the interaction.\n",
        "\n",
        "Encapsulation is the practice of bundling data and methods into a single unit (class) and restricting access to the internal state to protect it from unauthorized modifications."
      ],
      "metadata": {
        "id": "Qxn2sO5bZ7Ng"
      }
    },
    {
      "cell_type": "markdown",
      "source": [
        "**Q5.What are dunder methods in Python?**"
      ],
      "metadata": {
        "id": "ULki5FQlaKim"
      }
    },
    {
      "cell_type": "markdown",
      "source": [
        "Ans:**Dunder methods** (short for \"double underscore\" methods) in Python are special methods that begin and end with double underscores (`__`). They are also known as **magic methods** or **special methods**. These methods allow you to define how objects of a class behave in certain situations, such as when they are used in arithmetic operations, compared, or printed.\n",
        "\n",
        "Some common examples of dunder methods include:\n",
        "- `__init__(self)`: The constructor method, called when an object is created.\n",
        "- `__str__(self)`: Defines the string representation of an object (used by `print()` or `str()`).\n",
        "- `__repr__(self)`: Defines the \"official\" string representation, often used for debugging.\n",
        "- `__add__(self, other)`: Defines behavior for the addition operator (`+`).\n",
        "- `__eq__(self, other)`: Defines behavior for equality comparison (`==`).\n",
        "- `__len__(self)`: Defines behavior for the `len()` function.\n",
        "\n",
        "Dunder methods enable Python classes to interact naturally with built-in functions and operators."
      ],
      "metadata": {
        "id": "vkhKmw8KaeEz"
      }
    },
    {
      "cell_type": "markdown",
      "source": [
        "**Q6.Explain the concept of inheritance in OOP.**"
      ],
      "metadata": {
        "id": "7D8F-koqanFP"
      }
    },
    {
      "cell_type": "markdown",
      "source": [
        "Ans: Inheritance in OOP allows a child class to inherit attributes and methods from a parent class, enabling code reuse and creating a hierarchical relationship between classes."
      ],
      "metadata": {
        "id": "nAxapij0auj_"
      }
    },
    {
      "cell_type": "code",
      "source": [
        "class Animal:\n",
        "    def speak(self):\n",
        "        print(\"Animal speaks\")\n",
        "\n",
        "class Dog(Animal):\n",
        "    def speak(self):\n",
        "        print(\"Dog barks\")\n",
        "\n",
        "dog = Dog()\n",
        "dog.speak()"
      ],
      "metadata": {
        "colab": {
          "base_uri": "https://localhost:8080/"
        },
        "id": "3ALFo5sZa8Qq",
        "outputId": "790e2444-bd11-4c91-81a8-1bf920b9ee57"
      },
      "execution_count": null,
      "outputs": [
        {
          "output_type": "stream",
          "name": "stdout",
          "text": [
            "Dog barks\n"
          ]
        }
      ]
    },
    {
      "cell_type": "markdown",
      "source": [
        "**Q7.What is polymorphism in OOP?**"
      ],
      "metadata": {
        "id": "1z0wDgZ_cgud"
      }
    },
    {
      "cell_type": "markdown",
      "source": [
        "Ans: Polymorphism in OOP is the ability of different classes to be treated as instances of the same class through a common interface, typically using methods with the same name but different implementations. It allows objects of different types to be used interchangeably, enabling the same method to behave differently based on the object calling it."
      ],
      "metadata": {
        "id": "rGWYwsTDcl6c"
      }
    },
    {
      "cell_type": "code",
      "source": [
        "class Animal:\n",
        "    def speak(self):\n",
        "        print(\"Animal speaks\")\n",
        "\n",
        "class Dog(Animal):\n",
        "    def speak(self):\n",
        "        print(\"Dog barks\")\n",
        "\n",
        "class Cat(Animal):\n",
        "    def speak(self):\n",
        "        print(\"Cat meows\")\n",
        "\n",
        "def make_sound(animal):\n",
        "    animal.speak()\n",
        "\n",
        "dog = Dog()\n",
        "cat = Cat()\n",
        "\n",
        "make_sound(dog)\n",
        "make_sound(cat)"
      ],
      "metadata": {
        "colab": {
          "base_uri": "https://localhost:8080/"
        },
        "id": "r8Pk9nxnctpa",
        "outputId": "3443f2bd-a32a-4e26-bd80-f0db9485449d"
      },
      "execution_count": null,
      "outputs": [
        {
          "output_type": "stream",
          "name": "stdout",
          "text": [
            "Dog barks\n",
            "Cat meows\n"
          ]
        }
      ]
    },
    {
      "cell_type": "markdown",
      "source": [
        "**Q8.How is encapsulation achieved in Python?**"
      ],
      "metadata": {
        "id": "M4QABXujc3_6"
      }
    },
    {
      "cell_type": "markdown",
      "source": [
        "Ans: Encapsulation in Python is achieved by bundling data (attributes) and methods (functions) into a class and restricting access to the internal state.\n",
        "\n",
        "Public attributes are accessible directly (e.g., self.name).\n",
        "\n",
        "Protected attributes use a single underscore (e.g., _name), suggesting limited use.\n",
        "\n",
        "Private attributes use double underscores (e.g., __name), making access harder from outside the class (name mangling).\n",
        "\n",
        "Getter and Setter methods provide controlled access to private data."
      ],
      "metadata": {
        "id": "iD9acErDc93l"
      }
    },
    {
      "cell_type": "code",
      "source": [
        "class Account:\n",
        "    def __init__(self, owner, balance):\n",
        "        self.owner = owner\n",
        "        self.__balance = balance\n",
        "\n",
        "    def get_balance(self):\n",
        "        return self.__balance\n",
        "\n",
        "    def deposit(self, amount):\n",
        "        if amount > 0:\n",
        "            self.__balance += amount\n",
        "\n",
        "acc = Account(\"John\", 1000)\n",
        "print(acc.get_balance())"
      ],
      "metadata": {
        "colab": {
          "base_uri": "https://localhost:8080/"
        },
        "id": "d8MQBMeGdVSl",
        "outputId": "4f02e574-bf21-459e-83be-b74f7fbc1049"
      },
      "execution_count": null,
      "outputs": [
        {
          "output_type": "stream",
          "name": "stdout",
          "text": [
            "1000\n"
          ]
        }
      ]
    },
    {
      "cell_type": "markdown",
      "source": [
        "**Q9.What is a constructor in Python?**"
      ],
      "metadata": {
        "id": "qRB8orGMdRMT"
      }
    },
    {
      "cell_type": "markdown",
      "source": [
        "Ans: A constructor in Python is a special method __init__() that is automatically called when a new object of a class is created. It initializes the object's attributes and sets up its initial state"
      ],
      "metadata": {
        "id": "OEDK1WFMdhrL"
      }
    },
    {
      "cell_type": "code",
      "source": [
        "class Person:\n",
        "    def __init__(self, name, age):\n",
        "        self.name = name\n",
        "        self.age = age\n",
        "\n",
        "person1 = Person(\"Jarin\", 25)\n",
        "print(person1.name)\n",
        "print(person1.age)"
      ],
      "metadata": {
        "colab": {
          "base_uri": "https://localhost:8080/"
        },
        "id": "KwLwRp_AdpbQ",
        "outputId": "5df459ff-d730-45f4-8da2-4bb00399c23a"
      },
      "execution_count": null,
      "outputs": [
        {
          "output_type": "stream",
          "name": "stdout",
          "text": [
            "Jarin\n",
            "25\n"
          ]
        }
      ]
    },
    {
      "cell_type": "markdown",
      "source": [
        "**Q10.What are class and static methods in Python?**"
      ],
      "metadata": {
        "id": "PWI1jzBJd7I_"
      }
    },
    {
      "cell_type": "markdown",
      "source": [
        "Ans: Class Method: Defined with @classmethod, takes cls (class) as the first argument, and can modify class-level attributes."
      ],
      "metadata": {
        "id": "rHe-m5KleXKz"
      }
    },
    {
      "cell_type": "code",
      "source": [
        "class MyClass:\n",
        "    @classmethod\n",
        "    def greet(cls):\n",
        "        print(\"Hello from the class!\")"
      ],
      "metadata": {
        "id": "9UkjgdKaekvA"
      },
      "execution_count": null,
      "outputs": []
    },
    {
      "cell_type": "markdown",
      "source": [
        "Static Method: Defined with @staticmethod, doesn't take self or cls as the first argument, and doesn't modify class or instance attributes."
      ],
      "metadata": {
        "id": "clR0pohPeodJ"
      }
    },
    {
      "cell_type": "code",
      "source": [
        "class Math:\n",
        "    @staticmethod\n",
        "    def add(x, y):\n",
        "        return x + y"
      ],
      "metadata": {
        "id": "zb4OScaVesyT"
      },
      "execution_count": null,
      "outputs": []
    },
    {
      "cell_type": "markdown",
      "source": [
        "**Q11.What is method overloading in Python?**"
      ],
      "metadata": {
        "id": "HAGiqI5Eewz_"
      }
    },
    {
      "cell_type": "markdown",
      "source": [
        "Ans: Method overloading in Python refers to the ability to define multiple methods with the same name but different parameters. However, Python does not support traditional method overloading (like in languages such as Java or C++). Instead, Python allows you to define a method that can handle different numbers of arguments by using default arguments or variable-length arguments"
      ],
      "metadata": {
        "id": "rsWLYfyef0mD"
      }
    },
    {
      "cell_type": "code",
      "source": [
        "#using default arguments\n",
        "class Example:\n",
        "    def greet(self, name=\"Guest\"):\n",
        "        print(f\"Hello, {name}\")\n",
        "\n",
        "obj = Example()\n",
        "obj.greet()\n",
        "obj.greet(\"John\")\n"
      ],
      "metadata": {
        "colab": {
          "base_uri": "https://localhost:8080/"
        },
        "id": "hGyKXLEZf-Mf",
        "outputId": "a661a62b-b77f-4455-a186-4a2f8d6b14e0"
      },
      "execution_count": null,
      "outputs": [
        {
          "output_type": "stream",
          "name": "stdout",
          "text": [
            "Hello, Guest\n",
            "Hello, John\n"
          ]
        }
      ]
    },
    {
      "cell_type": "code",
      "source": [
        "#using variable-length arguments:\n",
        "class Example:\n",
        "    def add(self, *args):\n",
        "        return sum(args)\n",
        "\n",
        "obj = Example()\n",
        "print(obj.add(2, 3))\n",
        "print(obj.add(2, 3, 4, 5))"
      ],
      "metadata": {
        "id": "_2ZLoXywgL4E"
      },
      "execution_count": null,
      "outputs": []
    },
    {
      "cell_type": "markdown",
      "source": [
        "**Q12.What is method overriding in OOP?**"
      ],
      "metadata": {
        "id": "GTCiU20AgZ8T"
      }
    },
    {
      "cell_type": "markdown",
      "source": [
        "Ans: Method overriding in OOP occurs when a subclass provides a specific implementation of a method that is already defined in its parent class. The subclass method \"overrides\" the parent class method, allowing the subclass to modify or extend its behavior"
      ],
      "metadata": {
        "id": "l9B_jkxYgeKn"
      }
    },
    {
      "cell_type": "code",
      "source": [
        "class Animal:\n",
        "    def speak(self):\n",
        "        print(\"Animal speaks\")\n",
        "\n",
        "class Dog(Animal):\n",
        "    def speak(self):\n",
        "        print(\"Dog barks\")\n",
        "\n",
        "dog = Dog()\n",
        "dog.speak()"
      ],
      "metadata": {
        "colab": {
          "base_uri": "https://localhost:8080/"
        },
        "id": "9wjtJF6ggl2y",
        "outputId": "aa0d7aa6-c41a-4bfe-cbd8-dbf87f3a2692"
      },
      "execution_count": null,
      "outputs": [
        {
          "output_type": "stream",
          "name": "stdout",
          "text": [
            "Dog barks\n"
          ]
        }
      ]
    },
    {
      "cell_type": "markdown",
      "source": [
        "**Q13.What is a property decorator in Python?**"
      ],
      "metadata": {
        "id": "cJI2t6QMg2vM"
      }
    },
    {
      "cell_type": "markdown",
      "source": [
        "Ans: The property decorator in Python is used to define a method as a property, allowing you to access it like an attribute, but with the logic of a method behind it. It provides a way to define getter, setter, and deleter methods for an attribute without directly exposing them."
      ],
      "metadata": {
        "id": "eXXstsVMg8iZ"
      }
    },
    {
      "cell_type": "code",
      "source": [
        "class Circle:\n",
        "    def __init__(self, radius):\n",
        "        self._radius = radius\n",
        "\n",
        "    @property\n",
        "    def radius(self):\n",
        "        return self._radius\n",
        "\n",
        "    @radius.setter\n",
        "    def radius(self, value):\n",
        "        if value > 0:\n",
        "            self._radius = value\n",
        "        else:\n",
        "            print(\"Invalid radius\")\n",
        "c = Circle(5)\n",
        "print(c.radius)\n",
        "c.radius = 10\n",
        "print(c.radius)"
      ],
      "metadata": {
        "colab": {
          "base_uri": "https://localhost:8080/"
        },
        "id": "zqQ1KrqVhEPg",
        "outputId": "304c997a-fcb0-4986-fc8e-7fc64426071c"
      },
      "execution_count": null,
      "outputs": [
        {
          "output_type": "stream",
          "name": "stdout",
          "text": [
            "5\n",
            "10\n"
          ]
        }
      ]
    },
    {
      "cell_type": "markdown",
      "source": [
        "**Q14.Why is polymorphism important in OOP?**"
      ],
      "metadata": {
        "id": "VzsBLA8rhuGO"
      }
    },
    {
      "cell_type": "markdown",
      "source": [
        "Ans: **Polymorphism** is important in OOP because it allows objects of different classes to be treated as objects of a common superclass, enabling more flexible and reusable code. It lets the same method name behave differently based on the object type, improving code maintainability and scalability.\n",
        "\n",
        "### Key Benefits:\n",
        "- **Code Reusability**: You can use the same interface for different object types.\n",
        "- **Flexibility**: Enables objects to interact with each other in a consistent way, even if their internal implementations differ.\n",
        "- **Maintainability**: Simplifies adding new classes or modifying behaviors without changing existing code.\n"
      ],
      "metadata": {
        "id": "ATZTWmPKhyM7"
      }
    },
    {
      "cell_type": "markdown",
      "source": [
        "**Q15.What is an abstract class in Python?**"
      ],
      "metadata": {
        "id": "mh5Sp4_ph690"
      }
    },
    {
      "cell_type": "markdown",
      "source": [
        "Ans: An abstract class in Python is a class that cannot be instantiated directly and is designed to be subclassed. It defines abstract methods (methods without implementation) that must be implemented by any subclass. Abstract classes are used to provide a blueprint for other classes.\n",
        "\n",
        "Key Points:\n",
        "Defined using the abc module.\n",
        "Contains abstract methods, which are methods that must be implemented in the child class.\n",
        "Cannot be instantiated directly."
      ],
      "metadata": {
        "id": "IXlxb-gXiCBK"
      }
    },
    {
      "cell_type": "code",
      "source": [
        "from abc import ABC, abstractmethod\n",
        "\n",
        "class Animal(ABC):\n",
        "    @abstractmethod\n",
        "    def speak(self):\n",
        "        pass\n",
        "\n",
        "class Dog(Animal):\n",
        "    def speak(self):\n",
        "        print(\"Dog barks\")\n",
        "\n",
        "dog = Dog()\n",
        "dog.speak()"
      ],
      "metadata": {
        "colab": {
          "base_uri": "https://localhost:8080/"
        },
        "id": "tWNPiB4OiJV7",
        "outputId": "f1d35544-36e5-4362-9fd8-d19f6b401f6c"
      },
      "execution_count": null,
      "outputs": [
        {
          "output_type": "stream",
          "name": "stdout",
          "text": [
            "Dog barks\n"
          ]
        }
      ]
    },
    {
      "cell_type": "markdown",
      "source": [
        "**Q16.What are the advantages of OOP?**"
      ],
      "metadata": {
        "id": "xTgrI9733Jys"
      }
    },
    {
      "cell_type": "markdown",
      "source": [
        "Ans: Object-Oriented Programming (OOP) offers several advantages:\n",
        "\n",
        "1. **Modularity**: Code is organized into separate objects, making it easier to manage and update.\n",
        "2. **Reusability**: Objects and classes can be reused across different programs, reducing redundancy.\n",
        "3. **Scalability**: OOP supports the development of large, complex systems with manageable components.\n",
        "4. **Maintainability**: The modular structure and encapsulation make it easier to update and debug code.\n",
        "5. **Encapsulation**: Data and methods are bundled together, protecting the integrity of the data and providing better control over access.\n",
        "6. **Inheritance**: Allows new classes to be based on existing ones, promoting code reuse and flexibility.\n",
        "7. **Polymorphism**: Objects can be treated as instances of their parent class, making it easier to implement flexible and adaptable code."
      ],
      "metadata": {
        "id": "hpnRw7713Tpf"
      }
    },
    {
      "cell_type": "markdown",
      "source": [
        "**Q17. What is the difference between a class variable and an instance variable?**"
      ],
      "metadata": {
        "id": "kjTz6hPO3e3D"
      }
    },
    {
      "cell_type": "markdown",
      "source": [
        "Ans: The key differences between a class variable and an instance variable are:\n",
        "\n",
        "1. **Definition**:\n",
        "   - **Class Variable**: A variable that is shared by all instances of the class. It is defined within the class but outside any methods.\n",
        "   - **Instance Variable**: A variable that is unique to each instance of the class. It is defined inside the `__init__` method (or constructor).\n",
        "\n",
        "2. **Scope**:\n",
        "   - **Class Variable**: Accessible by all instances of the class and the class itself.\n",
        "   - **Instance Variable**: Accessible only through the instance of the class.\n",
        "\n",
        "3. **Modification**:\n",
        "   - **Class Variable**: Changing the value of a class variable affects all instances of the class.\n",
        "   - **Instance Variable**: Changing the value of an instance variable only affects that particular instance."
      ],
      "metadata": {
        "id": "Sutb3ArP3kHv"
      }
    },
    {
      "cell_type": "markdown",
      "source": [
        "**Q18.What is multiple inheritance in Python?**"
      ],
      "metadata": {
        "id": "0tsk370G30uu"
      }
    },
    {
      "cell_type": "markdown",
      "source": [
        "Ans: Multiple inheritance in Python refers to a feature where a class can inherit attributes and methods from more than one parent class. This allows a subclass to combine functionality from multiple base classes."
      ],
      "metadata": {
        "id": "om9nbRTV36WX"
      }
    },
    {
      "cell_type": "code",
      "source": [
        "class ClassA:\n",
        "    def methodA(self):\n",
        "        print(\"Method from ClassA\")\n",
        "\n",
        "class ClassB:\n",
        "    def methodB(self):\n",
        "        print(\"Method from ClassB\")\n",
        "\n",
        "class ClassC(ClassA, ClassB):\n",
        "    pass\n",
        "\n",
        "obj = ClassC()\n",
        "obj.methodA()\n",
        "obj.methodB()"
      ],
      "metadata": {
        "colab": {
          "base_uri": "https://localhost:8080/"
        },
        "id": "mDj4pNHX4ChS",
        "outputId": "4cee284d-2745-475f-a283-5f1277c22b5f"
      },
      "execution_count": 1,
      "outputs": [
        {
          "output_type": "stream",
          "name": "stdout",
          "text": [
            "Method from ClassA\n",
            "Method from ClassB\n"
          ]
        }
      ]
    },
    {
      "cell_type": "markdown",
      "source": [
        "Q19.Explain the purpose of ‘’__str__’ and ‘__repr__’ ‘ methods in Python?"
      ],
      "metadata": {
        "id": "f4Sb2VIN4RmO"
      }
    },
    {
      "cell_type": "markdown",
      "source": [
        "Ans: __str__:\n",
        "\n",
        "Purpose: Provides a user-friendly or informal string representation of the object.\n",
        "Typically used for display or printing, providing a readable or understandable format.\n",
        "Called by print() or str() functions"
      ],
      "metadata": {
        "id": "X9LCI8My4XbM"
      }
    },
    {
      "cell_type": "code",
      "source": [
        "class MyClass:\n",
        "    def __str__(self):\n",
        "        return \"This is MyClass object.\"\n",
        "\n",
        "obj = MyClass()\n",
        "print(obj)"
      ],
      "metadata": {
        "colab": {
          "base_uri": "https://localhost:8080/"
        },
        "id": "s969O7Oy4igy",
        "outputId": "1271028b-5b98-41f6-9ba6-a512ed02d3d4"
      },
      "execution_count": 2,
      "outputs": [
        {
          "output_type": "stream",
          "name": "stdout",
          "text": [
            "This is MyClass object.\n"
          ]
        }
      ]
    },
    {
      "cell_type": "markdown",
      "source": [
        "__repr__:\n",
        "\n",
        "Purpose: Provides a more detailed or unambiguous string representation of the object, primarily for developers.\n",
        "Intended to give a representation that can ideally be used to recreate the object using eval() (though that's not always practical).\n",
        "Called by repr() or in interactive Python sessions."
      ],
      "metadata": {
        "id": "JVJGFvUc4nIt"
      }
    },
    {
      "cell_type": "code",
      "source": [
        "class MyClass:\n",
        "    def __repr__(self):\n",
        "        return \"MyClass()\"\n",
        "\n",
        "obj = MyClass()\n",
        "print(repr(obj))"
      ],
      "metadata": {
        "colab": {
          "base_uri": "https://localhost:8080/"
        },
        "id": "ssHbVsF-4ttd",
        "outputId": "23eb23ce-2208-4c53-be50-8fcf9ba01717"
      },
      "execution_count": 3,
      "outputs": [
        {
          "output_type": "stream",
          "name": "stdout",
          "text": [
            "MyClass()\n"
          ]
        }
      ]
    },
    {
      "cell_type": "markdown",
      "source": [
        "**Q20.What is the significance of the ‘super()’ function in Python?**"
      ],
      "metadata": {
        "id": "vN3q3xzn4yYZ"
      }
    },
    {
      "cell_type": "markdown",
      "source": [
        "Ans: The super() function in Python is used to call methods from a parent or superclass in a subclass, enabling you to:\n",
        "\n",
        "Access Parent Class Methods: It allows you to invoke a method from the parent class, especially in the context of method overriding in a subclass.\n",
        "\n",
        "Maintain Multiple Inheritance: In multiple inheritance scenarios, super() helps Python determine the correct method resolution order (MRO) to follow."
      ],
      "metadata": {
        "id": "dleOt9qa44Ci"
      }
    },
    {
      "cell_type": "code",
      "source": [
        "class Animal:\n",
        "    def speak(self):\n",
        "        print(\"Animal speaks\")\n",
        "\n",
        "class Dog(Animal):\n",
        "    def speak(self):\n",
        "        super().speak()\n",
        "        print(\"Dog barks\")\n",
        "\n",
        "dog = Dog()\n",
        "dog.speak()"
      ],
      "metadata": {
        "colab": {
          "base_uri": "https://localhost:8080/"
        },
        "id": "I8bkJ9HH5GgU",
        "outputId": "d09f74b8-cdbc-4948-cc8b-10e05ba4d7f1"
      },
      "execution_count": 4,
      "outputs": [
        {
          "output_type": "stream",
          "name": "stdout",
          "text": [
            "Animal speaks\n",
            "Dog barks\n"
          ]
        }
      ]
    },
    {
      "cell_type": "markdown",
      "source": [
        "**Q21.What is the significance of the __del__ method in Python?**"
      ],
      "metadata": {
        "id": "UmurW6rt5NVT"
      }
    },
    {
      "cell_type": "markdown",
      "source": [
        "Ans:The _ _ del _ _ method in Python is a destructor used for cleanup when an object is about to be destroyed, such as releasing resources (e.g., closing files or network connections). It is automatically called when the object is deleted or garbage collected.\n",
        "\n",
        "Key Points:\n",
        "Used for resource cleanup before the object is destroyed.\n",
        "Called when an object is deleted or goes out of scope.\n",
        "Not commonly used, as Python's garbage collector manages memory automatically."
      ],
      "metadata": {
        "id": "mrXz-MjN5S8d"
      }
    },
    {
      "cell_type": "code",
      "source": [
        "class MyClass:\n",
        "    def __init__(self):\n",
        "        print(\"Object created.\")\n",
        "\n",
        "    def __del__(self):\n",
        "        print(\"Object is being destroyed.\")\n",
        "\n",
        "obj = MyClass()\n",
        "del obj"
      ],
      "metadata": {
        "colab": {
          "base_uri": "https://localhost:8080/"
        },
        "id": "31-We6zH59gh",
        "outputId": "49e7bc3d-78f8-49ab-dd62-89eeec598f23"
      },
      "execution_count": 5,
      "outputs": [
        {
          "output_type": "stream",
          "name": "stdout",
          "text": [
            "Object created.\n",
            "Object is being destroyed.\n"
          ]
        }
      ]
    },
    {
      "cell_type": "markdown",
      "source": [
        "**Q22.What is the difference between @staticmethod and @classmethod in Python?**"
      ],
      "metadata": {
        "id": "3Ezr_-Wl6ERC"
      }
    },
    {
      "cell_type": "markdown",
      "source": [
        "Ans: @staticmethod:\n",
        "\n",
        "Does not take a reference to the class or instance as its first argument.\n",
        "Can be called on the class or instance but does not access or modify class or instance-specific data.\n",
        "Used for utility functions that don't need access to the class or instance"
      ],
      "metadata": {
        "id": "vNcloAh_6Jcz"
      }
    },
    {
      "cell_type": "code",
      "source": [
        "class MyClass:\n",
        "    @staticmethod\n",
        "    def static_method():\n",
        "        print(\"This is a static method.\")\n",
        "\n",
        "MyClass.static_method()"
      ],
      "metadata": {
        "colab": {
          "base_uri": "https://localhost:8080/"
        },
        "id": "7Ka9HWMV6UIh",
        "outputId": "ec52871c-d584-4510-e0de-657a9be22c12"
      },
      "execution_count": 6,
      "outputs": [
        {
          "output_type": "stream",
          "name": "stdout",
          "text": [
            "This is a static method.\n"
          ]
        }
      ]
    },
    {
      "cell_type": "markdown",
      "source": [
        "@classmethod:\n",
        "\n",
        "Takes a reference to the class (cls) as its first argument.\n",
        "Can modify class state or call other class methods.\n",
        "Can be called on the class or an instance"
      ],
      "metadata": {
        "id": "PC7v-g3z6YAb"
      }
    },
    {
      "cell_type": "code",
      "source": [
        "class MyClass:\n",
        "    @classmethod\n",
        "    def class_method(cls):\n",
        "        print(f\"This is a class method, called on {cls}.\")\n",
        "\n",
        "MyClass.class_method()"
      ],
      "metadata": {
        "colab": {
          "base_uri": "https://localhost:8080/"
        },
        "id": "LfZOzUxj6cTq",
        "outputId": "70a2613d-6fa1-442e-96db-71cb4b1bd19b"
      },
      "execution_count": 7,
      "outputs": [
        {
          "output_type": "stream",
          "name": "stdout",
          "text": [
            "This is a class method, called on <class '__main__.MyClass'>.\n"
          ]
        }
      ]
    },
    {
      "cell_type": "markdown",
      "source": [
        "**Q23.How does polymorphism work in Python with inheritance?**"
      ],
      "metadata": {
        "id": "Nz19wnft6hs1"
      }
    },
    {
      "cell_type": "markdown",
      "source": [
        "Ans:Polymorphism in Python with inheritance allows a subclass to provide a specific implementation of a method that is already defined in its parent class. This means that the same method name can behave differently depending on the object calling it.\n",
        "\n",
        "How it works:\n",
        "Method Overriding: A subclass can override a parent class method to implement its own version of the method, providing different behavior.\n",
        "Dynamic Dispatch: When a method is called on an object, Python determines at runtime which method to invoke based on the object's actual class."
      ],
      "metadata": {
        "id": "yBigmhKb6qHd"
      }
    },
    {
      "cell_type": "code",
      "source": [
        "class Animal:\n",
        "    def speak(self):\n",
        "        print(\"Animal speaks\")\n",
        "\n",
        "class Dog(Animal):\n",
        "    def speak(self):\n",
        "        print(\"Dog barks\")\n",
        "\n",
        "class Cat(Animal):\n",
        "    def speak(self):\n",
        "        print(\"Cat meows\")\n",
        "animals = [Dog(), Cat()]\n",
        "for animal in animals:\n",
        "    animal.speak()"
      ],
      "metadata": {
        "colab": {
          "base_uri": "https://localhost:8080/"
        },
        "id": "n6Owzfn861rp",
        "outputId": "b4f3656f-2939-43a0-a4ab-af641ed82955"
      },
      "execution_count": 8,
      "outputs": [
        {
          "output_type": "stream",
          "name": "stdout",
          "text": [
            "Dog barks\n",
            "Cat meows\n"
          ]
        }
      ]
    },
    {
      "cell_type": "markdown",
      "source": [
        "**Q24.What is method chaining in Python OOP?**"
      ],
      "metadata": {
        "id": "Ei_K1fWL68a-"
      }
    },
    {
      "cell_type": "markdown",
      "source": [
        "Ans: Method chaining in Python OOP refers to the practice of calling multiple methods on the same object in a single line, where each method returns the object itself (or another object), allowing the next method to be called on that object.\n",
        "\n",
        "How it works:\n",
        "Each method in the chain must return the object (typically self).\n",
        "This allows you to call multiple methods consecutively without having to repeatedly reference the object."
      ],
      "metadata": {
        "id": "SwYzvFE77AgD"
      }
    },
    {
      "cell_type": "code",
      "source": [
        "class Car:\n",
        "    def __init__(self):\n",
        "        self.speed = 0\n",
        "\n",
        "    def accelerate(self):\n",
        "        self.speed += 10\n",
        "        return self\n",
        "\n",
        "    def brake(self):\n",
        "        self.speed -= 5\n",
        "        return self\n",
        "\n",
        "    def get_speed(self):\n",
        "        return self.speed\n",
        "car = Car()\n",
        "speed = car.accelerate().accelerate().brake().get_speed()\n",
        "print(speed)"
      ],
      "metadata": {
        "colab": {
          "base_uri": "https://localhost:8080/"
        },
        "id": "A-MKInr17JXG",
        "outputId": "e1fef8d9-a0f4-496a-a3ac-4469d9e4530e"
      },
      "execution_count": 9,
      "outputs": [
        {
          "output_type": "stream",
          "name": "stdout",
          "text": [
            "15\n"
          ]
        }
      ]
    },
    {
      "cell_type": "markdown",
      "source": [
        "**Q25.What is the purpose of the __call__ method in Python?**"
      ],
      "metadata": {
        "id": "Q2qSD1hQ7Szr"
      }
    },
    {
      "cell_type": "markdown",
      "source": [
        "Ans: The __call__ method in Python allows an object to be called like a function. When implemented, it makes the object behave like a function, enabling you to invoke it using parentheses ().\n",
        "\n",
        "Purpose:\n",
        "Make objects callable: It allows instances of a class to be invoked as if they were functions.\n",
        "Custom behavior: You can define custom behavior when the object is called, such as processing arguments passed to it."
      ],
      "metadata": {
        "id": "0gvWVpzI7V0D"
      }
    },
    {
      "cell_type": "markdown",
      "source": [
        "### **Practical Questions**"
      ],
      "metadata": {
        "id": "o2pmwIzI7fxE"
      }
    },
    {
      "cell_type": "markdown",
      "source": [
        "**Q1.Create a parent class Animal with a method speak() that prints a generic message. Create a child class Dog that overrides the speak() method to print \"Bark!\"**"
      ],
      "metadata": {
        "id": "daiPAJ887sqf"
      }
    },
    {
      "cell_type": "code",
      "source": [
        "class Animal:\n",
        "    def speak(self):\n",
        "        print(\"Generic animal sound\")\n",
        "\n",
        "class Dog(Animal):\n",
        "    def speak(self):\n",
        "        print(\"Bark!\")\n",
        "dog = Dog()\n",
        "dog.speak()"
      ],
      "metadata": {
        "colab": {
          "base_uri": "https://localhost:8080/"
        },
        "id": "NeUZj3Fw7-mI",
        "outputId": "99d267df-e34d-464b-889d-73068e486c95"
      },
      "execution_count": 10,
      "outputs": [
        {
          "output_type": "stream",
          "name": "stdout",
          "text": [
            "Bark!\n"
          ]
        }
      ]
    },
    {
      "cell_type": "markdown",
      "source": [
        "**Q2.Write a program to create an abstract class Shape with a method area(). Derive classes Circle and Rectangle from it and implement the area() method in both.**"
      ],
      "metadata": {
        "id": "pXaZ8awe8Sqe"
      }
    },
    {
      "cell_type": "code",
      "source": [
        "from abc import ABC, abstractmethod\n",
        "import math\n",
        "class Shape(ABC):\n",
        "    @abstractmethod\n",
        "    def area(self):\n",
        "        pass\n",
        "\n",
        "class Circle(Shape):\n",
        "    def __init__(self, radius):\n",
        "        self.radius = radius\n",
        "\n",
        "    def area(self):\n",
        "        return math.pi * self.radius ** 2\n",
        "\n",
        "class Rectangle(Shape):\n",
        "    def __init__(self, width, height):\n",
        "        self.width = width\n",
        "        self.height = height\n",
        "\n",
        "    def area(self):\n",
        "        return self.width * self.height\n",
        "\n",
        "circle = Circle(5)\n",
        "rectangle = Rectangle(4, 6)\n",
        "print(\"Area of Circle:\", circle.area())\n",
        "print(\"Area of Rectangle:\", rectangle.area())\n"
      ],
      "metadata": {
        "colab": {
          "base_uri": "https://localhost:8080/"
        },
        "id": "wxLhkIsA8eFx",
        "outputId": "34ca34c0-86c0-4703-8c67-eaf5138e7431"
      },
      "execution_count": 11,
      "outputs": [
        {
          "output_type": "stream",
          "name": "stdout",
          "text": [
            "Area of Circle: 78.53981633974483\n",
            "Area of Rectangle: 24\n"
          ]
        }
      ]
    },
    {
      "cell_type": "markdown",
      "source": [
        "**Q3.Implement a multi-level inheritance scenario where a class Vehicle has an attribute type. Derive a class Car and further derive a class ElectricCar that adds a battery attribute.**"
      ],
      "metadata": {
        "id": "u_4yl5CY87xl"
      }
    },
    {
      "cell_type": "code",
      "source": [
        "class Vehicle:\n",
        "    def __init__(self, type):\n",
        "        self.type = type\n",
        "\n",
        "    def display_type(self):\n",
        "        print(f\"This is a {self.type} vehicle.\")\n",
        "\n",
        "class Car(Vehicle):\n",
        "    def __init__(self, type, make):\n",
        "        super().__init__(type)\n",
        "        self.make = make\n",
        "\n",
        "    def display_make(self):\n",
        "        print(f\"This car is a {self.make}.\")\n",
        "\n",
        "class ElectricCar(Car):\n",
        "    def __init__(self, type, make, battery):\n",
        "        super().__init__(type, make)\n",
        "        self.battery = battery\n",
        "\n",
        "    def display_battery(self):\n",
        "        print(f\"This electric car has a {self.battery} battery.\")\n",
        "\n",
        "electric_car = ElectricCar(\"Electric\", \"Tesla\", \"100 kWh\")\n",
        "\n",
        "electric_car.display_type()\n",
        "electric_car.display_make()\n",
        "electric_car.display_battery()"
      ],
      "metadata": {
        "colab": {
          "base_uri": "https://localhost:8080/"
        },
        "id": "zaChQLXV9GLh",
        "outputId": "49078ab5-196f-4b91-ae4a-a7d8cac6f46b"
      },
      "execution_count": 12,
      "outputs": [
        {
          "output_type": "stream",
          "name": "stdout",
          "text": [
            "This is a Electric vehicle.\n",
            "This car is a Tesla.\n",
            "This electric car has a 100 kWh battery.\n"
          ]
        }
      ]
    },
    {
      "cell_type": "markdown",
      "source": [
        "**Q4.Implement a multi-level inheritance scenario where a class Vehicle has an attribute type. Derive a class Car and further derive a class ElectricCar that adds a battery attribute.**"
      ],
      "metadata": {
        "id": "9V7Q09qX9pd4"
      }
    },
    {
      "cell_type": "code",
      "source": [
        "class Vehicle:\n",
        "    def __init__(self, type):\n",
        "        self.type = type\n",
        "\n",
        "    def display_type(self):\n",
        "        print(f\"This is a {self.type} vehicle.\")\n",
        "\n",
        "class Car(Vehicle):\n",
        "    def __init__(self, type, make):\n",
        "        super().__init__(type)\n",
        "        self.make = make\n",
        "\n",
        "    def display_make(self):\n",
        "        print(f\"This car is a {self.make}.\")\n",
        "\n",
        "class ElectricCar(Car):\n",
        "    def __init__(self, type, make, battery):\n",
        "        super().__init__(type, make)\n",
        "        self.battery = battery\n",
        "\n",
        "    def display_battery(self):\n",
        "        print(f\"This electric car has a {self.battery} battery.\")\n",
        "\n",
        "electric_car = ElectricCar(\"Electric\", \"Tesla\", \"100 kWh\")\n",
        "\n",
        "electric_car.display_type()\n",
        "electric_car.display_make()\n",
        "electric_car.display_battery()"
      ],
      "metadata": {
        "colab": {
          "base_uri": "https://localhost:8080/"
        },
        "id": "HwQk_kWg9yPZ",
        "outputId": "05aa4964-a307-4168-b82f-429edb2f0a7a"
      },
      "execution_count": 13,
      "outputs": [
        {
          "output_type": "stream",
          "name": "stdout",
          "text": [
            "This is a Electric vehicle.\n",
            "This car is a Tesla.\n",
            "This electric car has a 100 kWh battery.\n"
          ]
        }
      ]
    },
    {
      "cell_type": "markdown",
      "source": [
        "**Q5.Write a program to demonstrate encapsulation by creating a class BankAccount with private attributes balance and methods to deposit, withdraw, and check balance.**"
      ],
      "metadata": {
        "id": "W2rQLMOO-WLw"
      }
    },
    {
      "cell_type": "code",
      "source": [
        "class BankAccount:\n",
        "    def __init__(self, initial_balance=0):\n",
        "        self.__balance = initial_balance\n",
        "    def deposit(self, amount):\n",
        "        if amount > 0:\n",
        "            self.__balance += amount\n",
        "            print(f\"Deposited {amount}. New balance: {self.__balance}\")\n",
        "        else:\n",
        "            print(\"Deposit amount must be positive.\")\n",
        "    def withdraw(self, amount):\n",
        "        if amount > 0 and amount <= self.__balance:\n",
        "            self.__balance -= amount\n",
        "            print(f\"Withdrew {amount}. New balance: {self.__balance}\")\n",
        "        else:\n",
        "            print(\"Insufficient balance or invalid withdrawal amount.\")\n",
        "\n",
        "    def check_balance(self):\n",
        "        print(f\"Current balance: {self.__balance}\")\n",
        "\n",
        "account = BankAccount(1000)\n",
        "\n",
        "account.check_balance()\n",
        "account.deposit(500)\n",
        "account.withdraw(300)\n",
        "account.check_balance()\n",
        "account.withdraw(1500)\n"
      ],
      "metadata": {
        "colab": {
          "base_uri": "https://localhost:8080/"
        },
        "id": "5X_ii1cW-gHY",
        "outputId": "2c6bcd9b-5ae4-4c72-e105-e9a46ce3dc7a"
      },
      "execution_count": 14,
      "outputs": [
        {
          "output_type": "stream",
          "name": "stdout",
          "text": [
            "Current balance: 1000\n",
            "Deposited 500. New balance: 1500\n",
            "Withdrew 300. New balance: 1200\n",
            "Current balance: 1200\n",
            "Insufficient balance or invalid withdrawal amount.\n"
          ]
        }
      ]
    },
    {
      "cell_type": "markdown",
      "source": [
        "**Q6.Demonstrate runtime polymorphism using a method play() in a base class Instrument. Derive classes Guitar\n",
        "and Piano that implement their own version of play().**"
      ],
      "metadata": {
        "id": "mihrvmVg_Og_"
      }
    },
    {
      "cell_type": "code",
      "source": [
        "class Instrument:\n",
        "    def play(self):\n",
        "        print(\"Playing an instrument\")\n",
        "\n",
        "class Guitar(Instrument):\n",
        "    def play(self):\n",
        "        print(\"Strumming the guitar\")\n",
        "\n",
        "class Piano(Instrument):\n",
        "    def play(self):\n",
        "        print(\"Playing the piano\")\n",
        "\n",
        "def perform_play(instrument):\n",
        "    instrument.play()\n",
        "\n",
        "guitar = Guitar()\n",
        "piano = Piano()\n",
        "\n",
        "perform_play(guitar)\n",
        "perform_play(piano)\n"
      ],
      "metadata": {
        "colab": {
          "base_uri": "https://localhost:8080/"
        },
        "id": "UR5wMjkh_Tsv",
        "outputId": "dfdebfe5-2f33-4a52-c1dc-fc28c6015d6e"
      },
      "execution_count": 15,
      "outputs": [
        {
          "output_type": "stream",
          "name": "stdout",
          "text": [
            "Strumming the guitar\n",
            "Playing the piano\n"
          ]
        }
      ]
    },
    {
      "cell_type": "markdown",
      "source": [
        "**Q7. Create a class MathOperations with a class method add_numbers() to add two numbers and a static method subtract_numbers() to subtract two numbers.**"
      ],
      "metadata": {
        "id": "PZ0Pm49S_rdS"
      }
    },
    {
      "cell_type": "code",
      "source": [
        "class MathOperations:\n",
        "    @classmethod\n",
        "    def add_numbers(cls, a, b):\n",
        "        return a + b\n",
        "\n",
        "    @staticmethod\n",
        "    def subtract_numbers(a, b):\n",
        "        return a - b\n",
        "sum_result = MathOperations.add_numbers(5, 3)\n",
        "difference_result = MathOperations.subtract_numbers(5, 3)\n",
        "\n",
        "print(f\"Sum: {sum_result}\")\n",
        "print(f\"Difference: {difference_result}\")"
      ],
      "metadata": {
        "colab": {
          "base_uri": "https://localhost:8080/"
        },
        "id": "Yzp4TsQp_yw0",
        "outputId": "e8654628-13f5-48f1-de69-ac2ffbca8838"
      },
      "execution_count": 16,
      "outputs": [
        {
          "output_type": "stream",
          "name": "stdout",
          "text": [
            "Sum: 8\n",
            "Difference: 2\n"
          ]
        }
      ]
    },
    {
      "cell_type": "code",
      "source": [],
      "metadata": {
        "id": "l5CbmoqvD-7C"
      },
      "execution_count": null,
      "outputs": []
    },
    {
      "cell_type": "markdown",
      "source": [
        "**Q8.Implement a class Person with a class method to count the total number of persons created.**"
      ],
      "metadata": {
        "id": "Zv-5Ixr7ApD3"
      }
    },
    {
      "cell_type": "code",
      "source": [
        "class Person:\n",
        "    total_persons = 0\n",
        "\n",
        "    def __init__(self, name):\n",
        "        self.name = name\n",
        "        Person.total_persons += 1\n",
        "\n",
        "    @classmethod\n",
        "    def get_total_persons(cls):\n",
        "        return cls.total_persons\n",
        "person1 = Person(\"Alice\")\n",
        "person2 = Person(\"Bob\")\n",
        "person3 = Person(\"Charlie\")\n",
        "\n",
        "print(\"Total persons created:\", Person.get_total_persons())"
      ],
      "metadata": {
        "colab": {
          "base_uri": "https://localhost:8080/"
        },
        "id": "rwe7c8dvAx5L",
        "outputId": "e260bc2c-c619-4205-ba91-59cf208e4f88"
      },
      "execution_count": 17,
      "outputs": [
        {
          "output_type": "stream",
          "name": "stdout",
          "text": [
            "Total persons created: 3\n"
          ]
        }
      ]
    },
    {
      "cell_type": "markdown",
      "source": [
        "**Q9.Write a class Fraction with attributes numerator and denominator. Override the str method to display the fraction as \"numerator/denominator\".**"
      ],
      "metadata": {
        "id": "UEM06EFID5vb"
      }
    },
    {
      "cell_type": "code",
      "source": [
        "class Fraction:\n",
        "    def __init__(self, numerator, denominator):\n",
        "        self.numerator = numerator\n",
        "        self.denominator = denominator\n",
        "    def __str__(self):\n",
        "        return f\"{self.numerator}/{self.denominator}\"\n",
        "\n",
        "fraction = Fraction(3, 4)\n",
        "\n",
        "print(fraction)"
      ],
      "metadata": {
        "colab": {
          "base_uri": "https://localhost:8080/"
        },
        "id": "VtzbkJu3EW2b",
        "outputId": "2e67291f-f575-49a0-fdea-2760c86b9f95"
      },
      "execution_count": 18,
      "outputs": [
        {
          "output_type": "stream",
          "name": "stdout",
          "text": [
            "3/4\n"
          ]
        }
      ]
    },
    {
      "cell_type": "markdown",
      "source": [
        "**Q10.Demonstrate operator overloading by creating a class Vector and overriding the add method to add two vectors**"
      ],
      "metadata": {
        "id": "DgCfSJTyEk9p"
      }
    },
    {
      "cell_type": "code",
      "source": [
        "class Vector:\n",
        "    def __init__(self, x, y):\n",
        "        self.x = x\n",
        "        self.y = y\n",
        "\n",
        "    def __add__(self, other):\n",
        "        if isinstance(other, Vector):\n",
        "            return Vector(self.x + other.x, self.y + other.y)\n",
        "        else:\n",
        "            raise TypeError(\"Operands must be instances of Vector class\")\n",
        "\n",
        "    def __str__(self):\n",
        "        return f\"({self.x}, {self.y})\"\n",
        "vector1 = Vector(2, 3)\n",
        "vector2 = Vector(4, 1)\n",
        "\n",
        "result_vector = vector1 + vector2\n",
        "\n",
        "print(f\"Result of adding {vector1} and {vector2}: {result_vector}\")"
      ],
      "metadata": {
        "colab": {
          "base_uri": "https://localhost:8080/"
        },
        "id": "yKUq5addEti4",
        "outputId": "8f8fb8ee-22fa-4d57-bdb0-97ba74e9ead7"
      },
      "execution_count": 19,
      "outputs": [
        {
          "output_type": "stream",
          "name": "stdout",
          "text": [
            "Result of adding (2, 3) and (4, 1): (6, 4)\n"
          ]
        }
      ]
    },
    {
      "cell_type": "markdown",
      "source": [
        "**Q11.Create a class Person with attributes name and age. Add a method greet() that prints \"Hello, my name is{name} and I am {age} years old\"**"
      ],
      "metadata": {
        "id": "bkhwewPEE_qs"
      }
    },
    {
      "cell_type": "code",
      "source": [
        "class Person:\n",
        "    def __init__(self, name, age):\n",
        "        self.name = name\n",
        "        self.age = age\n",
        "\n",
        "    def greet(self):\n",
        "        print(f\"Hello, my name is {self.name} and I am {self.age} years old\")\n",
        "person1 = Person(\"Jarin\", 25)\n",
        "\n",
        "person1.greet()"
      ],
      "metadata": {
        "colab": {
          "base_uri": "https://localhost:8080/"
        },
        "id": "Sq8uDEeoFJoF",
        "outputId": "63406d99-1699-43e0-922f-32cbb4befe35"
      },
      "execution_count": 20,
      "outputs": [
        {
          "output_type": "stream",
          "name": "stdout",
          "text": [
            "Hello, my name is Jarin and I am 25 years old\n"
          ]
        }
      ]
    },
    {
      "cell_type": "markdown",
      "source": [
        "**Q12. Implement a class Student with attributes name and grades. Create a method average_grade() to compute the average of the grades.**"
      ],
      "metadata": {
        "id": "AAu8T9tBFZpR"
      }
    },
    {
      "cell_type": "code",
      "source": [
        "class Student:\n",
        "    def __init__(self, name, grades):\n",
        "        self.name = name\n",
        "        self.grades = grades\n",
        "    def average_grade(self):\n",
        "        if self.grades:\n",
        "            return sum(self.grades) / len(self.grades)\n",
        "        else:\n",
        "            return 0\n",
        "\n",
        "student1 = Student(\"John\", [85, 90, 78, 92, 88])\n",
        "\n",
        "print(f\"Average grade of {student1.name}: {student1.average_grade():.2f}\")"
      ],
      "metadata": {
        "colab": {
          "base_uri": "https://localhost:8080/"
        },
        "id": "a6-9YcptFewy",
        "outputId": "ee3f0e28-15b9-41a4-acdf-bbdf9aa7b65a"
      },
      "execution_count": 21,
      "outputs": [
        {
          "output_type": "stream",
          "name": "stdout",
          "text": [
            "Average grade of John: 86.60\n"
          ]
        }
      ]
    },
    {
      "cell_type": "markdown",
      "source": [
        "**Q13.Create a class Rectangle with methods set_dimensions() to set the dimensions and area() to calculate the area.**"
      ],
      "metadata": {
        "id": "Nq28t6GfFxbZ"
      }
    },
    {
      "cell_type": "code",
      "source": [
        "class Rectangle:\n",
        "    def __init__(self):\n",
        "        self.length = 0\n",
        "        self.width = 0\n",
        "\n",
        "    def set_dimensions(self, length, width):\n",
        "        self.length = length\n",
        "        self.width = width\n",
        "\n",
        "    def area(self):\n",
        "        return self.length * self.width\n",
        "\n",
        "rectangle = Rectangle()\n",
        "\n",
        "rectangle.set_dimensions(5, 3)\n",
        "\n",
        "print(f\"Area of the rectangle: {rectangle.area()}\")"
      ],
      "metadata": {
        "colab": {
          "base_uri": "https://localhost:8080/"
        },
        "id": "E7NJ_FMYF3_M",
        "outputId": "8f2bf99a-c747-406f-da0b-9784e2641fca"
      },
      "execution_count": 22,
      "outputs": [
        {
          "output_type": "stream",
          "name": "stdout",
          "text": [
            "Area of the rectangle: 15\n"
          ]
        }
      ]
    },
    {
      "cell_type": "markdown",
      "source": [
        "**Q14.Create a class Employee with a method calculate_salary() that computes the salary based on hours worked and hourly rate. Create a derived class Manager that adds a bonus to the salary**"
      ],
      "metadata": {
        "id": "wCLwXYEFGIFE"
      }
    },
    {
      "cell_type": "code",
      "source": [
        "# Base class Employee\n",
        "class Employee:\n",
        "    def __init__(self, hours_worked, hourly_rate):\n",
        "        self.hours_worked = hours_worked\n",
        "        self.hourly_rate = hourly_rate\n",
        "\n",
        "    # Method to calculate the salary\n",
        "    def calculate_salary(self):\n",
        "        return self.hours_worked * self.hourly_rate\n",
        "\n",
        "# Derived class Manager\n",
        "class Manager(Employee):\n",
        "    def __init__(self, hours_worked, hourly_rate, bonus):\n",
        "        super().__init__(hours_worked, hourly_rate)  # Initialize the base class\n",
        "        self.bonus = bonus\n",
        "\n",
        "    # Overridden method to include bonus in salary\n",
        "    def calculate_salary(self):\n",
        "        return super().calculate_salary() + self.bonus\n",
        "\n",
        "# Creating an Employee object\n",
        "employee = Employee(40, 20)\n",
        "print(f\"Employee's salary: {employee.calculate_salary()}\")\n",
        "\n",
        "# Creating a Manager object\n",
        "manager = Manager(40, 25, 500)\n",
        "print(f\"Manager's salary: {manager.calculate_salary()}\")"
      ],
      "metadata": {
        "colab": {
          "base_uri": "https://localhost:8080/"
        },
        "id": "HvPdpXj2GN_M",
        "outputId": "0131aabe-7cbc-4d91-9899-c3d47de4acf9"
      },
      "execution_count": 23,
      "outputs": [
        {
          "output_type": "stream",
          "name": "stdout",
          "text": [
            "Employee's salary: 800\n",
            "Manager's salary: 1500\n"
          ]
        }
      ]
    },
    {
      "cell_type": "markdown",
      "source": [
        "**Q15. Create a class Product with attributes name, price, and quantity. Implement a method total_price() that calculates the total price of the product.**"
      ],
      "metadata": {
        "id": "JLEsJGSuGpP2"
      }
    },
    {
      "cell_type": "code",
      "source": [
        "class Product:\n",
        "    def __init__(self, name, price, quantity):\n",
        "        self.name = name\n",
        "        self.price = price\n",
        "        self.quantity = quantity\n",
        "    def total_price(self):\n",
        "        return self.price * self.quantity\n",
        "\n",
        "product = Product(\"Laptop\", 1000, 3)\n",
        "\n",
        "print(f\"Total price of {product.name}: ${product.total_price()}\")"
      ],
      "metadata": {
        "colab": {
          "base_uri": "https://localhost:8080/"
        },
        "id": "3iETFNp1Gxkz",
        "outputId": "4ec4388a-0d1e-4e4e-8df3-3685f2a5e27a"
      },
      "execution_count": 24,
      "outputs": [
        {
          "output_type": "stream",
          "name": "stdout",
          "text": [
            "Total price of Laptop: $3000\n"
          ]
        }
      ]
    },
    {
      "cell_type": "markdown",
      "source": [
        "**Q16. Create a class Animal with an abstract method sound(). Create two derived classes Cow and Sheep that implement the sound() method.**"
      ],
      "metadata": {
        "id": "E7dp-r4uHGQb"
      }
    },
    {
      "cell_type": "code",
      "source": [
        "from abc import ABC, abstractmethod\n",
        "\n",
        "class Animal(ABC):\n",
        "    @abstractmethod\n",
        "    def sound(self):\n",
        "        pass\n",
        "class Cow(Animal):\n",
        "    def sound(self):\n",
        "        return \"Moo\"\n",
        "\n",
        "class Sheep(Animal):\n",
        "    def sound(self):\n",
        "        return \"Baa\"\n",
        "\n",
        "cow = Cow()\n",
        "sheep = Sheep()\n",
        "\n",
        "print(f\"Cow sound: {cow.sound()}\")\n",
        "print(f\"Sheep sound: {sheep.sound()}\")"
      ],
      "metadata": {
        "colab": {
          "base_uri": "https://localhost:8080/"
        },
        "id": "ptFxiArTHMcT",
        "outputId": "188d9698-fb5e-42ec-8dcf-13a3b6f2ae13"
      },
      "execution_count": 25,
      "outputs": [
        {
          "output_type": "stream",
          "name": "stdout",
          "text": [
            "Cow sound: Moo\n",
            "Sheep sound: Baa\n"
          ]
        }
      ]
    },
    {
      "cell_type": "markdown",
      "source": [
        "**Q17.Create a class Book with attributes title, author, and year_published. Add a method get_book_info() that returns a formatted string with the book's details.**"
      ],
      "metadata": {
        "id": "BwO-XcgKHX_j"
      }
    },
    {
      "cell_type": "code",
      "source": [
        "class Book:\n",
        "    def __init__(self, title, author, year_published):\n",
        "        self.title = title\n",
        "        self.author = author\n",
        "        self.year_published = year_published\n",
        "\n",
        "    def get_book_info(self):\n",
        "        return f\"Title: {self.title}, Author: {self.author}, Year Published: {self.year_published}\"\n",
        "\n",
        "book = Book(\"1984\", \"George Orwell\", 1949)\n",
        "\n",
        "print(book.get_book_info())"
      ],
      "metadata": {
        "colab": {
          "base_uri": "https://localhost:8080/"
        },
        "id": "FXDJg7Z5Hf6M",
        "outputId": "83cb0ec5-dd25-4f0d-e812-ceb1bc39ea4d"
      },
      "execution_count": 26,
      "outputs": [
        {
          "output_type": "stream",
          "name": "stdout",
          "text": [
            "Title: 1984, Author: George Orwell, Year Published: 1949\n"
          ]
        }
      ]
    },
    {
      "cell_type": "markdown",
      "source": [
        "**Q18.Create a class House with attributes address and price.Create a derived class Mansion that adds an attribute number_of_rooms.**"
      ],
      "metadata": {
        "id": "64nqu6LYHsEI"
      }
    },
    {
      "cell_type": "code",
      "source": [
        "class House:\n",
        "    def __init__(self, address, price):\n",
        "        self.address = address\n",
        "        self.price = price\n",
        "\n",
        "class Mansion(House):\n",
        "    def __init__(self, address, price, number_of_rooms):\n",
        "        super().__init__(address, price)\n",
        "        self.number_of_rooms = number_of_rooms\n",
        "\n",
        "house = House(\"123 Main St\", 250000)\n",
        "\n",
        "mansion = Mansion(\"456 Luxury Ave\", 1000000, 10)\n",
        "\n",
        "print(f\"House Address: {house.address}, Price: ${house.price}\")\n",
        "print(f\"Mansion Address: {mansion.address}, Price: ${mansion.price}, Rooms: {mansion.number_of_rooms}\")"
      ],
      "metadata": {
        "colab": {
          "base_uri": "https://localhost:8080/"
        },
        "id": "obpVX3lvH0Sp",
        "outputId": "566b6425-9e80-4214-9dd8-f72cf2aa7ae9"
      },
      "execution_count": 27,
      "outputs": [
        {
          "output_type": "stream",
          "name": "stdout",
          "text": [
            "House Address: 123 Main St, Price: $250000\n",
            "Mansion Address: 456 Luxury Ave, Price: $1000000, Rooms: 10\n"
          ]
        }
      ]
    }
  ]
}